{
 "cells": [
  {
   "cell_type": "markdown",
   "id": "03bbe927",
   "metadata": {},
   "source": [
    "# ICU-DISPO"
   ]
  },
  {
   "cell_type": "markdown",
   "id": "01378044",
   "metadata": {},
   "source": [
    "## Library\n"
   ]
  },
  {
   "cell_type": "code",
   "execution_count": 138,
   "id": "7c3397ad",
   "metadata": {},
   "outputs": [],
   "source": [
    "import tmle_function_new as tmle_fn\n",
    "import pandas as pd\n",
    "import numpy as np\n",
    "import matplotlib.pyplot as plt\n",
    "import importlib\n",
    "importlib.reload(tmle_fn)\n",
    "from sklearn.metrics import precision_score, recall_score, f1_score, roc_auc_score\n",
    "from IPython.display import display\n",
    "import warnings\n"
   ]
  },
  {
   "cell_type": "markdown",
   "id": "e151098a",
   "metadata": {},
   "source": [
    "## Data loading & preprocessing"
   ]
  },
  {
   "cell_type": "code",
   "execution_count": 139,
   "id": "2b2364db",
   "metadata": {},
   "outputs": [
    {
     "name": "stdout",
     "output_type": "stream",
     "text": [
      " Sample split summary:\n",
      "   Total samples: 25710\n",
      "   Train samples: 17997 (70.0%)\n",
      "   Test samples: 7713 (30.0%)\n",
      "   Train treatment prop: 0.926\n",
      "   Test treatment prop: 0.926\n"
     ]
    }
   ],
   "source": [
    "data_splits = tmle_fn.data_loading(\"tmle_data.csv\", test_size=0.3, random_state=42)\n",
    "W_train_std, W_test_std, scaler = tmle_fn.data_preprocessing(\n",
    "                                data_splits['train']['W'], data_splits['test']['W']\n",
    "                                )\n",
    "W_A_train_std = pd.concat([W_train_std, pd.DataFrame(data_splits['train']['A'], columns=['A'])], axis=1)\n",
    "W_A_test_std = pd.concat([W_test_std, pd.DataFrame(data_splits['test']['A'], columns=['A'])], axis=1)"
   ]
  },
  {
   "cell_type": "markdown",
   "id": "ff8aaec2",
   "metadata": {},
   "source": [
    "## Set up base learner"
   ]
  },
  {
   "cell_type": "code",
   "execution_count": 140,
   "id": "4a25d666",
   "metadata": {},
   "outputs": [],
   "source": [
    "base_learners = tmle_fn.get_base_learners(W_train_std.shape[1])                     "
   ]
  },
  {
   "cell_type": "markdown",
   "id": "9c1af27d",
   "metadata": {},
   "source": [
    "## Fitting Q model on training set(AUC, Precision, recall, F-1)"
   ]
  },
  {
   "cell_type": "code",
   "execution_count": 141,
   "id": "cc94e8ac",
   "metadata": {},
   "outputs": [
    {
     "name": "stderr",
     "output_type": "stream",
     "text": [
      "======  Fitting Outcome model ======  :   6%|▋         | 1/16 [00:00<00:00, 1123.27it/s]Python(12054) MallocStackLogging: can't turn off malloc stack logging because it was not enabled.\n",
      "Python(12055) MallocStackLogging: can't turn off malloc stack logging because it was not enabled.\n",
      "Python(12056) MallocStackLogging: can't turn off malloc stack logging because it was not enabled.\n",
      "Python(12057) MallocStackLogging: can't turn off malloc stack logging because it was not enabled.\n",
      "Python(12058) MallocStackLogging: can't turn off malloc stack logging because it was not enabled.\n",
      "Python(12059) MallocStackLogging: can't turn off malloc stack logging because it was not enabled.\n",
      "Python(12060) MallocStackLogging: can't turn off malloc stack logging because it was not enabled.\n",
      "Python(12061) MallocStackLogging: can't turn off malloc stack logging because it was not enabled.\n",
      "====== Evaluating Outcome model ======:  12%|█▎        | 2/16 [02:40<18:45, 80.43s/it]  Python(12184) MallocStackLogging: can't turn off malloc stack logging because it was not enabled.\n",
      "                                                                                      "
     ]
    },
    {
     "name": "stdout",
     "output_type": "stream",
     "text": [
      "Outcome model Train CV AUC: 0.8025 (+/- 0.0068)\n"
     ]
    },
    {
     "name": "stderr",
     "output_type": "stream",
     "text": [
      "\r"
     ]
    },
    {
     "data": {
      "text/html": [
       "<div>\n",
       "<style scoped>\n",
       "    .dataframe tbody tr th:only-of-type {\n",
       "        vertical-align: middle;\n",
       "    }\n",
       "\n",
       "    .dataframe tbody tr th {\n",
       "        vertical-align: top;\n",
       "    }\n",
       "\n",
       "    .dataframe thead th {\n",
       "        text-align: right;\n",
       "    }\n",
       "</style>\n",
       "<table border=\"1\" class=\"dataframe\">\n",
       "  <thead>\n",
       "    <tr style=\"text-align: right;\">\n",
       "      <th></th>\n",
       "      <th>set</th>\n",
       "      <th>Precision</th>\n",
       "      <th>Recall</th>\n",
       "      <th>F1</th>\n",
       "      <th>ROC_AUC</th>\n",
       "    </tr>\n",
       "  </thead>\n",
       "  <tbody>\n",
       "    <tr>\n",
       "      <th>0</th>\n",
       "      <td>train</td>\n",
       "      <td>0.802644</td>\n",
       "      <td>0.781538</td>\n",
       "      <td>0.79195</td>\n",
       "      <td>0.878926</td>\n",
       "    </tr>\n",
       "  </tbody>\n",
       "</table>\n",
       "</div>"
      ],
      "text/plain": [
       "     set  Precision    Recall       F1   ROC_AUC\n",
       "0  train   0.802644  0.781538  0.79195  0.878926"
      ]
     },
     "execution_count": 141,
     "metadata": {},
     "output_type": "execute_result"
    }
   ],
   "source": [
    "sl = tmle_fn.fit_superlearner(W_A_train_std, data_splits['train']['Y'],base_learners, \"Outcome model\")\n",
    "\n",
    "\n",
    "Q_A_train, Q_1_train, Q_0_train, Q_model_train_df_metrices = tmle_fn.predict_Q_models(sl, W_A_train_std, data_splits['train']['Y'], is_test=False)\n",
    "# Q_A_test, Q_1_test, Q_0_test, Q_model_test_df_metrices = tmle.predict_Q_models(sl, W_A_test_std, is_test=True)\n",
    "Q_model_train_df_metrices\n"
   ]
  },
  {
   "cell_type": "markdown",
   "id": "854a9a57",
   "metadata": {},
   "source": [
    "## Using downsampling dataset to train g model (orginal g model prediction included)"
   ]
  },
  {
   "cell_type": "code",
   "execution_count": 142,
   "id": "000b1126",
   "metadata": {},
   "outputs": [
    {
     "name": "stdout",
     "output_type": "stream",
     "text": [
      "g-model training samples (downsampled): (2662, 63), A=1 proportion: 0.50\n"
     ]
    },
    {
     "name": "stderr",
     "output_type": "stream",
     "text": [
      "======  Fitting Original Propensity Score Model ======  :   6%|▋         | 1/16 [00:00<00:00, 2380.42it/s]Python(12467) MallocStackLogging: can't turn off malloc stack logging because it was not enabled.\n",
      "Python(12901) MallocStackLogging: can't turn off malloc stack logging because it was not enabled.\n",
      "Python(12902) MallocStackLogging: can't turn off malloc stack logging because it was not enabled.\n",
      "Python(12903) MallocStackLogging: can't turn off malloc stack logging because it was not enabled.\n",
      "Python(12904) MallocStackLogging: can't turn off malloc stack logging because it was not enabled.\n",
      "Python(12905) MallocStackLogging: can't turn off malloc stack logging because it was not enabled.\n",
      "Python(12906) MallocStackLogging: can't turn off malloc stack logging because it was not enabled.\n",
      "====== Evaluating Original Propensity Score Model ======:  12%|█▎        | 2/16 [19:26<2:16:02, 583.05s/it]Python(13300) MallocStackLogging: can't turn off malloc stack logging because it was not enabled.\n",
      "Python(13301) MallocStackLogging: can't turn off malloc stack logging because it was not enabled.\n",
      "Python(13302) MallocStackLogging: can't turn off malloc stack logging because it was not enabled.\n",
      "Python(13303) MallocStackLogging: can't turn off malloc stack logging because it was not enabled.\n",
      "Python(13304) MallocStackLogging: can't turn off malloc stack logging because it was not enabled.\n",
      "Python(13305) MallocStackLogging: can't turn off malloc stack logging because it was not enabled.\n",
      "Python(13633) MallocStackLogging: can't turn off malloc stack logging because it was not enabled.\n",
      "Python(13634) MallocStackLogging: can't turn off malloc stack logging because it was not enabled.\n",
      "Python(13635) MallocStackLogging: can't turn off malloc stack logging because it was not enabled.\n",
      "Python(13636) MallocStackLogging: can't turn off malloc stack logging because it was not enabled.\n",
      "Python(13637) MallocStackLogging: can't turn off malloc stack logging because it was not enabled.\n",
      "Python(13925) MallocStackLogging: can't turn off malloc stack logging because it was not enabled.\n",
      "Python(13926) MallocStackLogging: can't turn off malloc stack logging because it was not enabled.\n",
      "Python(13927) MallocStackLogging: can't turn off malloc stack logging because it was not enabled.\n",
      "Python(13928) MallocStackLogging: can't turn off malloc stack logging because it was not enabled.\n",
      "Python(13929) MallocStackLogging: can't turn off malloc stack logging because it was not enabled.\n",
      "Python(13930) MallocStackLogging: can't turn off malloc stack logging because it was not enabled.\n",
      "Python(14227) MallocStackLogging: can't turn off malloc stack logging because it was not enabled.\n",
      "Python(14228) MallocStackLogging: can't turn off malloc stack logging because it was not enabled.\n",
      "Python(14229) MallocStackLogging: can't turn off malloc stack logging because it was not enabled.\n",
      "Python(14230) MallocStackLogging: can't turn off malloc stack logging because it was not enabled.\n",
      "Python(14231) MallocStackLogging: can't turn off malloc stack logging because it was not enabled.\n",
      "Python(14232) MallocStackLogging: can't turn off malloc stack logging because it was not enabled.\n",
      "Python(14465) MallocStackLogging: can't turn off malloc stack logging because it was not enabled.\n",
      "Python(14466) MallocStackLogging: can't turn off malloc stack logging because it was not enabled.\n",
      "Python(14467) MallocStackLogging: can't turn off malloc stack logging because it was not enabled.\n",
      "Python(14468) MallocStackLogging: can't turn off malloc stack logging because it was not enabled.\n",
      "Python(14469) MallocStackLogging: can't turn off malloc stack logging because it was not enabled.\n",
      "Python(14470) MallocStackLogging: can't turn off malloc stack logging because it was not enabled.\n",
      "Python(14752) MallocStackLogging: can't turn off malloc stack logging because it was not enabled.\n",
      "Python(14753) MallocStackLogging: can't turn off malloc stack logging because it was not enabled.\n",
      "Python(14754) MallocStackLogging: can't turn off malloc stack logging because it was not enabled.\n",
      "Python(14755) MallocStackLogging: can't turn off malloc stack logging because it was not enabled.\n",
      "Python(14756) MallocStackLogging: can't turn off malloc stack logging because it was not enabled.\n",
      "Python(14757) MallocStackLogging: can't turn off malloc stack logging because it was not enabled.\n",
      "                                                                                                           "
     ]
    },
    {
     "name": "stdout",
     "output_type": "stream",
     "text": [
      "Original Propensity Score Model Train CV AUC: 1.0000 (+/- 0.0000)\n"
     ]
    },
    {
     "name": "stderr",
     "output_type": "stream",
     "text": [
      "======  Fitting Base Propensity Score Model ======  :   6%|▋         | 1/16 [00:00<00:00, 2206.37it/s]Python(15017) MallocStackLogging: can't turn off malloc stack logging because it was not enabled.\n",
      "Python(15018) MallocStackLogging: can't turn off malloc stack logging because it was not enabled.\n",
      "Python(15019) MallocStackLogging: can't turn off malloc stack logging because it was not enabled.\n",
      "Python(15020) MallocStackLogging: can't turn off malloc stack logging because it was not enabled.\n",
      "Python(15021) MallocStackLogging: can't turn off malloc stack logging because it was not enabled.\n",
      "Python(15022) MallocStackLogging: can't turn off malloc stack logging because it was not enabled.\n",
      "                                                                                                      "
     ]
    },
    {
     "name": "stdout",
     "output_type": "stream",
     "text": [
      "Base Propensity Score Model Train CV AUC: 1.0000 (+/- 0.0000)\n"
     ]
    },
    {
     "name": "stderr",
     "output_type": "stream",
     "text": [
      "/Library/Frameworks/Python.framework/Versions/3.12/lib/python3.12/site-packages/sklearn/utils/validation.py:2749: UserWarning: X does not have valid feature names, but LGBMClassifier was fitted with feature names\n",
      "  warnings.warn(\n"
     ]
    },
    {
     "data": {
      "image/png": "[encoded data removed]",
      "text/plain": [
       "<Figure size 1600x600 with 2 Axes>"
      ]
     },
     "metadata": {},
     "output_type": "display_data"
    }
   ],
   "source": [
    "W_down, A_down = tmle_fn.downsampling_g_model_dataset(data_splits['train']['A'], W_train_std, data_splits['test']['A'], W_test_std)\n",
    "\n",
    "original_g_model = tmle_fn.fit_superlearner(W_train_std, data_splits['train']['A'], base_learners, \"Original Propensity Score Model\")\n",
    "original_g_model_probs_train = original_g_model.predict_proba(W_train_std)[:, 1]\n",
    "\n",
    "base_g_model_down = tmle_fn.fit_superlearner(W_down, A_down, base_learners, \"Base Propensity Score Model\")\n",
    "base_g_model_down_probs_train = base_g_model_down.predict_proba(W_down)[:, 1]\n",
    "# calculate precision, recall, F1-score, ROC-AUC for g model on original training set\n",
    "\n",
    "# plotting the distributions of predicted probabilities for both original and base g-models\n",
    "fig, axes = plt.subplots(1, 2, figsize=(16, 6), sharey=True)\n",
    "# -------- Original g-model distribution --------\n",
    "treated_original = original_g_model_probs_train[data_splits['train']['A'] == 1]\n",
    "control_original = original_g_model_probs_train[data_splits['train']['A'] == 0]\n",
    "\n",
    "axes[0].hist(treated_original, bins=20, alpha=0.6, label=\"Treated\", color=\"royalblue\", density=True)\n",
    "axes[0].hist(control_original, bins=20, alpha=0.6, label=\"Control\", color=\"orange\", density=True)\n",
    "\n",
    "mean_original = np.mean(original_g_model_probs_train)\n",
    "mean_original_treated = np.mean(treated_original)\n",
    "mean_original_control = np.mean(control_original)\n",
    "\n",
    "axes[0].axvline(mean_original, color=\"red\", linestyle=\"--\", \n",
    "                label=f\"Mean: {mean_original:.3f}\")\n",
    "axes[0].axvline(mean_original_treated, color=\"blue\", linestyle=\"--\", \n",
    "                label=f\"Treated Mean: {mean_original_treated:.3f}\")\n",
    "axes[0].axvline(mean_original_control, color=\"orange\", linestyle=\"--\", \n",
    "                label=f\"Control Mean: {mean_original_control:.3f}\")\n",
    "axes[0].set_ylim(0, 10)\n",
    "axes[0].set_xlabel(\"Propensity Score\")\n",
    "axes[0].set_ylabel(\"Density\")\n",
    "axes[0].set_title(\"1. Original Distribution\")\n",
    "axes[0].legend()\n",
    "\n",
    "# -------- Base g-model distribution --------\n",
    "treated_down = base_g_model_down_probs_train[A_down == 1]\n",
    "control_down = base_g_model_down_probs_train[A_down == 0]\n",
    "\n",
    "\n",
    "axes[1].hist(treated_down, bins=20, alpha=0.6, label=\"Treated\", color=\"royalblue\", density=True)\n",
    "axes[1].hist(control_down, bins=20, alpha=0.6, label=\"Control\", color=\"orange\", density=True)\n",
    "\n",
    "mean_down = np.mean(base_g_model_down_probs_train)\n",
    "mean_down_treated = np.mean(treated_down)\n",
    "mean_down_control = np.mean(control_down)\n",
    "axes[1].axvline(mean_down_treated, color=\"blue\", linestyle=\"--\", \n",
    "                label=f\"Treated Mean: {mean_down_treated:.3f}\")\n",
    "axes[1].axvline(mean_down_control, color=\"orange\", linestyle=\"--\", \n",
    "                label=f\"Control Mean: {mean_down_control:.3f}\")\n",
    "axes[1].axvline(mean_down, color=\"red\", linestyle=\"--\", \n",
    "                label=f\"Mean: {mean_down:.3f}\")\n",
    "axes[1].set_ylim(0, 10)\n",
    "axes[1].set_xlabel(\"Propensity Score\")\n",
    "axes[1].set_ylabel(\"Density\")\n",
    "axes[1].set_title(\"2. After Downsampling\")\n",
    "axes[1].legend()\n",
    "\n",
    "plt.tight_layout()\n",
    "plt.show()\n",
    "\n"
   ]
  },
  {
   "cell_type": "markdown",
   "id": "9bf2f25d",
   "metadata": {},
   "source": [
    "# Make calibration on g model"
   ]
  },
  {
   "cell_type": "code",
   "execution_count": 143,
   "id": "c80002f7",
   "metadata": {},
   "outputs": [
    {
     "name": "stdout",
     "output_type": "stream",
     "text": [
      "   🎯 Calibrating classifier using platt method...\n"
     ]
    },
    {
     "name": "stderr",
     "output_type": "stream",
     "text": [
      "/Library/Frameworks/Python.framework/Versions/3.12/lib/python3.12/site-packages/sklearn/utils/validation.py:2749: UserWarning: X does not have valid feature names, but LGBMClassifier was fitted with feature names\n",
      "  warnings.warn(\n",
      "/Library/Frameworks/Python.framework/Versions/3.12/lib/python3.12/site-packages/sklearn/utils/validation.py:2749: UserWarning: X does not have valid feature names, but LGBMClassifier was fitted with feature names\n",
      "  warnings.warn(\n",
      "/Library/Frameworks/Python.framework/Versions/3.12/lib/python3.12/site-packages/sklearn/utils/validation.py:2749: UserWarning: X does not have valid feature names, but LGBMClassifier was fitted with feature names\n",
      "  warnings.warn(\n"
     ]
    }
   ],
   "source": [
    "# Calibrate g model\n",
    "calibrated_g_model = tmle_fn.calibrate_classifier(base_g_model_down, W_down, A_down, method = 'platt')\n",
    "cal_probs_train = calibrated_g_model.predict_proba(W_down)[:, 1]\n",
    "\n",
    "# plot after calibration\n",
    "# treated_calibrated = cal_probs_train[W_down[\"A\"] == 1]\n",
    "# control_calibrated = cal_probs_train[W_down[\"A\"] == 0]\n",
    "\n",
    "# plt.hist(treated_calibrated, bins=20, alpha=0.6, label=\"A=1\", density=True)\n",
    "# plt.hist(control_calibrated, bins=20, alpha=0.6, label=\"A=0\", density=True)\n",
    "# plt.xlabel(\"Predicted probability (propensity score)\")\n",
    "# plt.ylabel(\"Density\")\n",
    "# plt.title(\"Propensity score distribution by treatment\")\n",
    "# plt.legend()\n",
    "# plt.show()"
   ]
  },
  {
   "cell_type": "markdown",
   "id": "734e2418",
   "metadata": {},
   "source": [
    "## Evaluate on full training set on g model(Downsampling & calibration)"
   ]
  },
  {
   "cell_type": "code",
   "execution_count": 144,
   "id": "ad07b9fc",
   "metadata": {},
   "outputs": [
    {
     "data": {
      "image/png": "[encoded data removed]",
      "text/plain": [
       "<Figure size 640x480 with 1 Axes>"
      ]
     },
     "metadata": {},
     "output_type": "display_data"
    },
    {
     "data": {
      "text/html": [
       "<div>\n",
       "<style scoped>\n",
       "    .dataframe tbody tr th:only-of-type {\n",
       "        vertical-align: middle;\n",
       "    }\n",
       "\n",
       "    .dataframe tbody tr th {\n",
       "        vertical-align: top;\n",
       "    }\n",
       "\n",
       "    .dataframe thead th {\n",
       "        text-align: right;\n",
       "    }\n",
       "</style>\n",
       "<table border=\"1\" class=\"dataframe\">\n",
       "  <thead>\n",
       "    <tr style=\"text-align: right;\">\n",
       "      <th></th>\n",
       "      <th>set</th>\n",
       "      <th>Precision</th>\n",
       "      <th>Recall</th>\n",
       "      <th>F1</th>\n",
       "      <th>ROC_AUC</th>\n",
       "      <th>treated_mean</th>\n",
       "      <th>control_mean</th>\n",
       "      <th>mean</th>\n",
       "    </tr>\n",
       "  </thead>\n",
       "  <tbody>\n",
       "    <tr>\n",
       "      <th>0</th>\n",
       "      <td>train_full</td>\n",
       "      <td>1.0</td>\n",
       "      <td>0.99844</td>\n",
       "      <td>0.999219</td>\n",
       "      <td>1.0</td>\n",
       "      <td>0.995235</td>\n",
       "      <td>0.002919</td>\n",
       "      <td>0.921846</td>\n",
       "    </tr>\n",
       "  </tbody>\n",
       "</table>\n",
       "</div>"
      ],
      "text/plain": [
       "          set  Precision   Recall        F1  ROC_AUC  treated_mean  \\\n",
       "0  train_full        1.0  0.99844  0.999219      1.0      0.995235   \n",
       "\n",
       "   control_mean      mean  \n",
       "0      0.002919  0.921846  "
      ]
     },
     "metadata": {},
     "output_type": "display_data"
    }
   ],
   "source": [
    "g_w_train_full = calibrated_g_model.predict_proba(W_train_std)[:, 1]\n",
    "\n",
    "# Performance Metrics\n",
    "y_pred_g_model_full_train = (g_w_train_full >= 0.5).astype(int)\n",
    "\n",
    "# calculate precision, recall, F1-score, ROC-AUC for g model on training set\n",
    "treat_mean = g_w_train_full[data_splits['train']['A'] == 1].mean()\n",
    "control_mean = g_w_train_full[data_splits['train']['A'] == 0].mean()\n",
    "metrics_g_train = {\n",
    "            'set': \"train_full\",\n",
    "            \"Precision\": precision_score(data_splits['train']['A'], y_pred_g_model_full_train, zero_division=0),\n",
    "            \"Recall\": recall_score(data_splits['train']['A'], y_pred_g_model_full_train, zero_division=0),\n",
    "            \"F1\": f1_score(data_splits['train']['A'], y_pred_g_model_full_train, zero_division=0),\n",
    "            \"ROC_AUC\": roc_auc_score(data_splits['train']['A'], g_w_train_full),\n",
    "            \"treated_mean\": float(g_w_train_full[data_splits['train']['A'] == 1].mean()),\n",
    "            \"control_mean\": float(g_w_train_full[data_splits['train']['A'] == 0].mean()),    \n",
    "            \"mean\": float(g_w_train_full.mean())\n",
    "\n",
    "        }\n",
    "metrics_g_train_df = pd.DataFrame([metrics_g_train])\n",
    "# plot g model on full training set\n",
    "\n",
    "treated_g_model_full_train = g_w_train_full[data_splits['train']['A'] == 1]\n",
    "control_g_model_full_train = g_w_train_full[data_splits['train']['A'] == 0]\n",
    "\n",
    "mean_g_full_train = np.mean(g_w_train_full)\n",
    "mean_g_treated_full_train = np.mean(treated_g_model_full_train)\n",
    "mean_g_control_full_train = np.mean(control_g_model_full_train)\n",
    "\n",
    "plt.axvline(mean_g_full_train, color=\"red\", linestyle=\"--\", \n",
    "                label=f\"Mean: {mean_g_full_train:.3f}\")\n",
    "plt.axvline(mean_g_treated_full_train, color=\"blue\", linestyle=\"--\", \n",
    "                label=f\"Treated Mean: {mean_g_treated_full_train:.3f}\")\n",
    "plt.axvline(mean_g_control_full_train, color=\"orange\", linestyle=\"--\", \n",
    "                label=f\"Control Mean: {mean_g_control_full_train:.3f}\")\n",
    "\n",
    "plt.hist(treated_g_model_full_train, bins=20, alpha=0.6, label=\"A=1\", density=True)\n",
    "plt.hist(control_g_model_full_train, bins=20, alpha=0.6, label=\"A=0\", density=True)\n",
    "plt.xlabel(\"Predicted probability (propensity score)\")\n",
    "plt.ylabel(\"Density\")\n",
    "plt.title(\"Propensity score distribution by g-model on full training set\")\n",
    "plt.legend()\n",
    "plt.show()\n",
    "\n",
    "\n",
    "display(metrics_g_train_df)"
   ]
  },
  {
   "cell_type": "markdown",
   "id": "319e9da4",
   "metadata": {},
   "source": [
    "## Calculating overlap weights for training set "
   ]
  },
  {
   "cell_type": "code",
   "execution_count": 145,
   "id": "3464e621",
   "metadata": {},
   "outputs": [],
   "source": [
    "g_w_train_trimmed = np.clip(g_w_train_full, 0.03, 0.97)\n",
    "overlap_weights_train = g_w_train_trimmed * (1 - g_w_train_trimmed)\n",
    "H_overlap_train = data_splits['train']['A'] * (1 - g_w_train_trimmed) - (1 - data_splits['train']['A']) * g_w_train_trimmed\n",
    "H_1_overlap_train = (1 - g_w_train_trimmed)\n",
    "H_0_overlap_train = g_w_train_trimmed"
   ]
  },
  {
   "cell_type": "markdown",
   "id": "dc18b20d",
   "metadata": {},
   "source": [
    "## Estimating fluctuation parameters and update q model for training set"
   ]
  },
  {
   "cell_type": "code",
   "execution_count": 146,
   "id": "920affcc",
   "metadata": {},
   "outputs": [
    {
     "name": "stdout",
     "output_type": "stream",
     "text": [
      "📈 Estimating fluctuation parameter (Overlap Weighting)...\n",
      "   Fluctuation parameter (epsilon): 0.318613\n"
     ]
    },
    {
     "data": {
      "text/plain": [
       "0.31861335529967993"
      ]
     },
     "execution_count": 146,
     "metadata": {},
     "output_type": "execute_result"
    }
   ],
   "source": [
    "eps = tmle_fn.estimate_fluctuation_param(\n",
    "                    data_splits['train']['Y'], Q_A_train, H_1_overlap_train, H_0_overlap_train, \n",
    "                    data_splits['train']['A'], H_overlap_train\n",
    "                )\n",
    "eps"
   ]
  },
  {
   "cell_type": "markdown",
   "id": "d3ec3173",
   "metadata": {},
   "source": [
    "# `Applying Testing data to Q model and g model`"
   ]
  },
  {
   "cell_type": "markdown",
   "id": "4cc380a2",
   "metadata": {},
   "source": [
    "## Q model on testing set"
   ]
  },
  {
   "cell_type": "code",
   "execution_count": 147,
   "id": "2eab9927",
   "metadata": {},
   "outputs": [
    {
     "name": "stdout",
     "output_type": "stream",
     "text": [
      "Q_A_test min: 0.0877, max: 0.9408, mean: 0.5086\n"
     ]
    },
    {
     "data": {
      "text/html": [
       "<div>\n",
       "<style scoped>\n",
       "    .dataframe tbody tr th:only-of-type {\n",
       "        vertical-align: middle;\n",
       "    }\n",
       "\n",
       "    .dataframe tbody tr th {\n",
       "        vertical-align: top;\n",
       "    }\n",
       "\n",
       "    .dataframe thead th {\n",
       "        text-align: right;\n",
       "    }\n",
       "</style>\n",
       "<table border=\"1\" class=\"dataframe\">\n",
       "  <thead>\n",
       "    <tr style=\"text-align: right;\">\n",
       "      <th></th>\n",
       "      <th>set</th>\n",
       "      <th>Precision</th>\n",
       "      <th>Recall</th>\n",
       "      <th>F1</th>\n",
       "      <th>ROC_AUC</th>\n",
       "    </tr>\n",
       "  </thead>\n",
       "  <tbody>\n",
       "    <tr>\n",
       "      <th>0</th>\n",
       "      <td>test</td>\n",
       "      <td>0.741092</td>\n",
       "      <td>0.738442</td>\n",
       "      <td>0.739765</td>\n",
       "      <td>0.816081</td>\n",
       "    </tr>\n",
       "  </tbody>\n",
       "</table>\n",
       "</div>"
      ],
      "text/plain": [
       "    set  Precision    Recall        F1   ROC_AUC\n",
       "0  test   0.741092  0.738442  0.739765  0.816081"
      ]
     },
     "metadata": {},
     "output_type": "display_data"
    }
   ],
   "source": [
    "Q_A_test, Q_1_test, Q_0_test, Q_model_test_df_metrices = tmle_fn.predict_Q_models(sl, W_A_test_std, data_splits['test']['Y'], is_test=True)\n",
    "Q_A_test_min = Q_A_test.min()\n",
    "Q_A_test_max = Q_A_test.max()\n",
    "Q_A_test_mean = Q_A_test.mean()\n",
    "\n",
    "\n",
    "print(f\"Q_A_test min: {Q_A_test_min:.4f}, max: {Q_A_test_max:.4f}, mean: {Q_A_test_mean:.4f}\")\n",
    "display(Q_model_test_df_metrices)"
   ]
  },
  {
   "cell_type": "markdown",
   "id": "67d3f73f",
   "metadata": {},
   "source": [
    "## g model on testing set & calculating overlap weight"
   ]
  },
  {
   "cell_type": "code",
   "execution_count": 148,
   "id": "2c5438d1",
   "metadata": {},
   "outputs": [
    {
     "data": {
      "image/png": "[encoded data removed]",
      "text/plain": [
       "<Figure size 640x480 with 1 Axes>"
      ]
     },
     "metadata": {},
     "output_type": "display_data"
    },
    {
     "data": {
      "text/html": [
       "<div>\n",
       "<style scoped>\n",
       "    .dataframe tbody tr th:only-of-type {\n",
       "        vertical-align: middle;\n",
       "    }\n",
       "\n",
       "    .dataframe tbody tr th {\n",
       "        vertical-align: top;\n",
       "    }\n",
       "\n",
       "    .dataframe thead th {\n",
       "        text-align: right;\n",
       "    }\n",
       "</style>\n",
       "<table border=\"1\" class=\"dataframe\">\n",
       "  <thead>\n",
       "    <tr style=\"text-align: right;\">\n",
       "      <th></th>\n",
       "      <th>set</th>\n",
       "      <th>Precision</th>\n",
       "      <th>Recall</th>\n",
       "      <th>F1</th>\n",
       "      <th>ROC_AUC</th>\n",
       "      <th>PS_treated_mean</th>\n",
       "      <th>PS_control_mean</th>\n",
       "      <th>PS_mean</th>\n",
       "    </tr>\n",
       "  </thead>\n",
       "  <tbody>\n",
       "    <tr>\n",
       "      <th>0</th>\n",
       "      <td>test</td>\n",
       "      <td>1.0</td>\n",
       "      <td>0.99804</td>\n",
       "      <td>0.999019</td>\n",
       "      <td>1.0</td>\n",
       "      <td>0.966599</td>\n",
       "      <td>0.030109</td>\n",
       "      <td>0.897392</td>\n",
       "    </tr>\n",
       "  </tbody>\n",
       "</table>\n",
       "</div>"
      ],
      "text/plain": [
       "    set  Precision   Recall        F1  ROC_AUC  PS_treated_mean  \\\n",
       "0  test        1.0  0.99804  0.999019      1.0         0.966599   \n",
       "\n",
       "   PS_control_mean   PS_mean  \n",
       "0         0.030109  0.897392  "
      ]
     },
     "metadata": {},
     "output_type": "display_data"
    }
   ],
   "source": [
    "g_w_test = calibrated_g_model.predict_proba(W_test_std)[:, 1]\n",
    "g_w_test_trimmed = np.clip(g_w_test, 0.03, 0.97)\n",
    "# Performance Metrics on test set\n",
    "y_pred_g_model_test = (g_w_test_trimmed >= 0.5).astype(int)\n",
    "metrics_g_test = {\n",
    "            'set': \"test\",\n",
    "            \"Precision\": precision_score(data_splits['test']['A'], y_pred_g_model_test, zero_division=0),\n",
    "            \"Recall\": recall_score(data_splits['test']['A'], y_pred_g_model_test, zero_division=0),\n",
    "            \"F1\": f1_score(data_splits['test']['A'], y_pred_g_model_test, zero_division=0),\n",
    "            \"ROC_AUC\": roc_auc_score(data_splits['test']['A'], g_w_test),\n",
    "            \"PS_treated_mean\": float(g_w_test_trimmed[data_splits['test']['A'] == 1].mean()),\n",
    "            \"PS_control_mean\": float(g_w_test_trimmed[data_splits['test']['A'] == 0].mean()),\n",
    "            \"PS_mean\": float(g_w_test_trimmed.mean())\n",
    "\n",
    "        }\n",
    "metrics_g_test_df = pd.DataFrame([metrics_g_test])\n",
    "\n",
    "# plot g model on test set\n",
    "treated_g_model_test = g_w_test_trimmed[data_splits['test']['A'] == 1]\n",
    "control_g_model_test = g_w_test_trimmed[data_splits['test']['A'] == 0]\n",
    "\n",
    "mean_g_test = np.mean(g_w_test_trimmed)\n",
    "mean_g_treated = np.mean(g_w_test_trimmed[data_splits['test']['A'] == 1])\n",
    "mean_g_control = np.mean(g_w_test_trimmed[data_splits['test']['A'] == 0])\n",
    "plt.axvline(mean_g_test, color=\"red\", linestyle=\"--\", \n",
    "                label=f\"Mean: {mean_g_test:.3f}\")\n",
    "plt.axvline(mean_g_treated, color=\"blue\", linestyle=\"--\", \n",
    "                label=f\"Treated Mean: {mean_g_treated:.3f}\")\n",
    "plt.axvline(mean_g_control, color=\"orange\", linestyle=\"--\", \n",
    "                label=f\"Control Mean: {mean_g_control:.3f}\")\n",
    "\n",
    "plt.hist(treated_g_model_test, bins=20, alpha=0.6, label=\"A=1\", density=True)\n",
    "plt.hist(control_g_model_test, bins=20, alpha=0.6, label=\"A=0\", density=True)\n",
    "plt.xlabel(\"Predicted probability (propensity score)\")\n",
    "plt.ylabel(\"Density\")\n",
    "plt.title(\"Propensity score distribution by g-model on test set\")\n",
    "plt.ylim(0,30)\n",
    "plt.legend()\n",
    "plt.show()\n",
    "\n",
    "display(metrics_g_test_df)\n",
    "\n",
    "#calculating overlap weights and H terms for test set\n",
    "g_w_test_trimmed = np.clip(g_w_test, 0.03, 0.97)\n",
    "overlap_weights_test = g_w_test_trimmed * (1 - g_w_test_trimmed)\n",
    "H_overlap_test = data_splits['test']['A'] * (1 - g_w_test_trimmed) - (1 - data_splits['test']['A']) * g_w_test_trimmed\n",
    "H_1_overlap_test = (1 - g_w_test_trimmed)\n",
    "H_0_overlap_test = g_w_test_trimmed"
   ]
  },
  {
   "cell_type": "markdown",
   "id": "bbb2fe96",
   "metadata": {},
   "source": [
    "## Update Q model on test set"
   ]
  },
  {
   "cell_type": "code",
   "execution_count": 149,
   "id": "59dce3e3",
   "metadata": {},
   "outputs": [],
   "source": [
    "Q_A_update_test = tmle_fn.update_Q(Q_A_test, H_overlap_test, eps)\n",
    "Q_1_update_test = tmle_fn.update_Q(Q_1_test, H_1_overlap_test, eps)\n",
    "Q_0_update_test = tmle_fn.update_Q(Q_0_test, - H_0_overlap_test, eps)"
   ]
  },
  {
   "cell_type": "markdown",
   "id": "28344699",
   "metadata": {},
   "source": [
    "### Computing ATE"
   ]
  },
  {
   "cell_type": "code",
   "execution_count": 150,
   "id": "2afcb1fd",
   "metadata": {},
   "outputs": [
    {
     "name": "stdout",
     "output_type": "stream",
     "text": [
      "🎯 Computing TMLE estimates ATE...\n"
     ]
    },
    {
     "data": {
      "text/html": [
       "<div>\n",
       "<style scoped>\n",
       "    .dataframe tbody tr th:only-of-type {\n",
       "        vertical-align: middle;\n",
       "    }\n",
       "\n",
       "    .dataframe tbody tr th {\n",
       "        vertical-align: top;\n",
       "    }\n",
       "\n",
       "    .dataframe thead th {\n",
       "        text-align: right;\n",
       "    }\n",
       "</style>\n",
       "<table border=\"1\" class=\"dataframe\">\n",
       "  <thead>\n",
       "    <tr style=\"text-align: right;\">\n",
       "      <th></th>\n",
       "      <th>Estimand</th>\n",
       "      <th>Estimate</th>\n",
       "      <th>Std.Err</th>\n",
       "      <th>95% CI</th>\n",
       "      <th>P-value</th>\n",
       "    </tr>\n",
       "  </thead>\n",
       "  <tbody>\n",
       "    <tr>\n",
       "      <th>0</th>\n",
       "      <td>ATE</td>\n",
       "      <td>0.061572</td>\n",
       "      <td>0.000387</td>\n",
       "      <td>[0.060812, 0.062331]</td>\n",
       "      <td>0.0</td>\n",
       "    </tr>\n",
       "  </tbody>\n",
       "</table>\n",
       "</div>"
      ],
      "text/plain": [
       "  Estimand  Estimate   Std.Err                95% CI  P-value\n",
       "0      ATE  0.061572  0.000387  [0.060812, 0.062331]      0.0"
      ]
     },
     "execution_count": 150,
     "metadata": {},
     "output_type": "execute_result"
    }
   ],
   "source": [
    "result = tmle_fn.compute_tmle(\n",
    "    data_splits['test']['Y'], data_splits['test']['A'],\n",
    "    Q_A_update_test, Q_1_update_test, Q_0_update_test,\n",
    "    H_1_overlap_test, H_0_overlap_test,\n",
    "    overlap_weights_test, H_overlap_test\n",
    ")\n",
    "\n",
    "result"
   ]
  }
 ],
 "metadata": {
  "kernelspec": {
   "display_name": "Python 3",
   "language": "python",
   "name": "python3"
  },
  "language_info": {
   "codemirror_mode": {
    "name": "ipython",
    "version": 3
   },
   "file_extension": ".py",
   "mimetype": "text/x-python",
   "name": "python",
   "nbconvert_exporter": "python",
   "pygments_lexer": "ipython3",
   "version": "3.12.2"
  }
 },
 "nbformat": 4,
 "nbformat_minor": 5
}
